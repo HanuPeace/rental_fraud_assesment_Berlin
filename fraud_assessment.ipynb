{
 "cells": [
  {
   "cell_type": "code",
   "execution_count": 186,
   "metadata": {},
   "outputs": [],
   "source": [
    "import pandas as pd\n",
    "import numpy as np\n",
    "import itertools\n",
    "from bs4 import BeautifulSoup\n",
    "import requests\n",
    "from requests import get\n",
    "import time\n",
    "from random import seed\n",
    "from random import random\n",
    "from random import randint"
   ]
  },
  {
   "cell_type": "code",
   "execution_count": null,
   "metadata": {},
   "outputs": [],
   "source": [
    "# initialize a list called houses \n",
    "houses = []\n",
    "# initialize loop variable for running through pages\n",
    "count = 1\n",
    "while count <= 85:\n",
    "    # getting details for first page\n",
    "    if count == 1:\n",
    "        first_page = 'https://rentberry.com/de/apartments/s/berlin-germany'\n",
    "        # request the response\n",
    "        response = get(first_page)\n",
    "        # parsing html \n",
    "        html_soup = BeautifulSoup(response.text, 'html.parser')\n",
    "        # in the html of the page, find all the bins with <li> and class:\n",
    "        house_data = html_soup.find_all('div', class_=\"apartment-item ng-star-inserted\")\n",
    "        # I like to print where the program is on the screen so we can follow its progress and where any errors happened\n",
    "        print(first_page)\n",
    "        \n",
    "        # if the response was not empty (if something was actually scraped)\n",
    "        if house_data != []:\n",
    "            # add to the list houses\n",
    "            houses.extend(house_data)\n",
    "            # random wait times\n",
    "            value = random()\n",
    "            print(value)\n",
    "            time.sleep(value)\n",
    "    # pages other than the first\n",
    "    elif count != 1:\n",
    "    # collect four and wait random times \n",
    "        url = 'https://rentberry.com/de/apartments/s/berlin-germany?page=' + str(count) + '&sort=relevance'\n",
    "        print(url)\n",
    "        response = get(url)\n",
    "        html_soup = BeautifulSoup(response.text, 'html.parser')\n",
    "        print(response)\n",
    "        house_data = html_soup.find_all('div', class_=\"apartment-item ng-star-inserted\")\n",
    "\n",
    "        if house_data != []:\n",
    "            houses.extend(house_data)\n",
    "            value = random()\n",
    "            print(value)\n",
    "            time.sleep(value)\n",
    "\n",
    "        # if you get empty response, stop the loop\n",
    "        else:\n",
    "            print('empty')\n",
    "            break\n",
    "            \n",
    "\n",
    "    count += 1\n"
   ]
  },
  {
   "cell_type": "code",
   "execution_count": 206,
   "metadata": {},
   "outputs": [],
   "source": [
    "def replace_empty_string_with_NAN(x):\n",
    "    if x == '':\n",
    "        return np.nan\n",
    "    else:\n",
    "        return x"
   ]
  },
  {
   "cell_type": "code",
   "execution_count": null,
   "metadata": {},
   "outputs": [],
   "source": [
    "# DATA FORMATTING \n",
    "## initializing lists and variables\n",
    "count = 0\n",
    "house_price = []\n",
    "location = []\n",
    "bedrooms = []\n",
    "surface = []\n",
    "## how long we are running the while loop for \n",
    "n = int(len(houses)) - 1\n",
    "while count <= n:\n",
    "    # running the loop through each html bin we scraped\n",
    "    num = houses[count]\n",
    "    \n",
    "    # getting the price: \n",
    "    price = num.find_all('span',{\"class\":\"label price ng-star-inserted\"})[0].text\n",
    "    house_price.append(price)\n",
    "    df_price = pd.DataFrame({'house_price':house_price})\n",
    "    df_price['house_price']=df_price['house_price'].str.replace(\"€\",\"\")\n",
    "    df_price['house_price']=df_price['house_price'].str.replace(\",\",\"\")\n",
    "        \n",
    "   #getting the location: \n",
    "    street = num.find('div',{\"class\":\"apt-address font-xs one-line-string\"}).text\n",
    "    location.append(street)\n",
    "    df_postcode = pd.DataFrame({'postcode':location})\n",
    "    df_postcode['postcode'] = df_postcode['postcode'].str.replace(\"\\D\",\"\")\n",
    "    df_postcode['postcode'] = df_postcode['postcode'].str[-5:]\n",
    "    df_postcode['postcode'] = df_postcode['postcode'].apply(lambda x : replace_empty_string_with_NAN(x))\n",
    "\n",
    "    #getting the number of bedrooms: \n",
    "    bedrooms_num = num.find_all('span',{\"class\":\"bedrooms ng-star-inserted\"})[0].text\n",
    "    bedrooms.append(bedrooms_num)\n",
    "    df_bedrooms = pd.DataFrame({'bedrooms':bedrooms})\n",
    "    \n",
    "    #getting the sq meter size: \n",
    "    print(count)\n",
    "    size = num.find_all('span',{\"class\":\"space\"})[0].text\n",
    "    surface.append(size)\n",
    "    df_surface = pd.DataFrame({'surface':surface}) \n",
    "    count += 1\n",
    "\n",
    "# concat all the different dataframes created, culminating in dfa (completed dataframe)\n",
    "\n",
    "result = pd.concat([df_price, df_postcode], axis=1, sort=False)\n",
    "result1 = pd.concat([result, df_bedrooms], axis=1, sort=False)\n",
    "dfa = pd.concat([result1, df_surface], axis=1, sort=False)\n",
    "dfa=dfa.dropna()\n",
    "dfa.to_csv('dfa_rentberry.csv')"
   ]
  },
  {
   "cell_type": "code",
   "execution_count": 210,
   "metadata": {},
   "outputs": [],
   "source": [
    "dfa['price_per_sqm']=dfa[\"house_price\"].astype(int)/dfa[\"surface\"].astype(int)\n",
    "dfa = dfa.reset_index()"
   ]
  },
  {
   "cell_type": "code",
   "execution_count": 211,
   "metadata": {},
   "outputs": [
    {
     "data": {
      "text/plain": [
       "0.7945205868328653"
      ]
     },
     "execution_count": 211,
     "metadata": {},
     "output_type": "execute_result"
    }
   ],
   "source": [
    "X=dfa.drop('house_price',axis='columns')\n",
    "y=dfa.house_price\n",
    "X = X.values.astype(float)\n",
    "y = y.values.astype(float)\n",
    "from sklearn.model_selection import train_test_split\n",
    "X_train, X_test, y_train, y_test = train_test_split(X,y,test_size=0.2,random_state=10)\n"
   ]
  },
  {
   "cell_type": "code",
   "execution_count": 215,
   "metadata": {},
   "outputs": [
    {
     "data": {
      "text/plain": [
       "0.7945205868328653"
      ]
     },
     "execution_count": 215,
     "metadata": {},
     "output_type": "execute_result"
    }
   ],
   "source": [
    "from sklearn.linear_model import LinearRegression\n",
    "lr_clf=LinearRegression()\n",
    "lr_clf.fit(X_train,y_train)\n",
    "lr_clf.score(X_test,y_test)"
   ]
  },
  {
   "cell_type": "code",
   "execution_count": 216,
   "metadata": {},
   "outputs": [
    {
     "data": {
      "text/plain": [
       "0.005420054200542005"
      ]
     },
     "execution_count": 216,
     "metadata": {},
     "output_type": "execute_result"
    }
   ],
   "source": [
    "from sklearn.svm import SVC\n",
    "svm=SVC()\n",
    "svm.fit(X_train,y_train)\n",
    "svm.score(X_test,y_test)"
   ]
  },
  {
   "cell_type": "code",
   "execution_count": 219,
   "metadata": {},
   "outputs": [
    {
     "data": {
      "text/plain": [
       "0.11382113821138211"
      ]
     },
     "execution_count": 219,
     "metadata": {},
     "output_type": "execute_result"
    }
   ],
   "source": [
    "from sklearn.ensemble import RandomForestClassifier\n",
    "rf=RandomForestClassifier(n_estimators=40)\n",
    "rf.fit(X_train,y_train)\n",
    "rf.score(X_test,y_test)"
   ]
  }
 ],
 "metadata": {
  "interpreter": {
   "hash": "977a761a8bb82afbd57e363696b0be0c8086084d297270c3489f1c1d54128a6a"
  },
  "kernelspec": {
   "display_name": "Python 3.9.9 64-bit (windows store)",
   "language": "python",
   "name": "python3"
  },
  "language_info": {
   "codemirror_mode": {
    "name": "ipython",
    "version": 3
   },
   "file_extension": ".py",
   "mimetype": "text/x-python",
   "name": "python",
   "nbconvert_exporter": "python",
   "pygments_lexer": "ipython3",
   "version": "3.9.9"
  },
  "orig_nbformat": 4
 },
 "nbformat": 4,
 "nbformat_minor": 2
}
